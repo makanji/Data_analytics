{
 "cells": [
  {
   "cell_type": "raw",
   "id": "e9f4bb46-e4fe-4339-a4c7-fc6c4c066518",
   "metadata": {},
   "source": [
    "Loading and understanding the dataset"
   ]
  },
  {
   "cell_type": "code",
   "execution_count": 1,
   "id": "7f3c0207",
   "metadata": {},
   "outputs": [],
   "source": [
    "import pandas as pd\n",
    "import numpy as np\n",
    "import seaborn as sns\n",
    "import matplotlib.pyplot as plt\n",
    "# Set display options to show all rows and columns\n",
    "pd.set_option('display.max_rows', None)\n",
    "#pd.set_option('display.max_columns', None)\n",
    "# Prevent line breaks\n",
    "pd.set_option('display.expand_frame_repr', False) "
   ]
  },
  {
   "cell_type": "code",
   "execution_count": 10,
   "id": "42a69506",
   "metadata": {},
   "outputs": [],
   "source": [
    "# Load the Titanic dataset from a GitHub repository\n",
    "url = 'https://raw.githubusercontent.com/datasciencedojo/datasets/master/titanic.csv'\n",
    "titanic_data = pd.read_csv(url)\n"
   ]
  },
  {
   "cell_type": "code",
   "execution_count": 3,
   "id": "6cb0f2ae-770c-467b-85b2-bce44ba3ee82",
   "metadata": {},
   "outputs": [
    {
     "name": "stdout",
     "output_type": "stream",
     "text": [
      "   PassengerId  Survived  Pclass                                               Name     Sex   Age  SibSp  Parch            Ticket     Fare Cabin Embarked\n",
      "0            1         0       3                            Braund, Mr. Owen Harris    male  22.0      1      0         A/5 21171   7.2500   NaN        S\n",
      "1            2         1       1  Cumings, Mrs. John Bradley (Florence Briggs Th...  female  38.0      1      0          PC 17599  71.2833   C85        C\n",
      "2            3         1       3                             Heikkinen, Miss. Laina  female  26.0      0      0  STON/O2. 3101282   7.9250   NaN        S\n",
      "3            4         1       1       Futrelle, Mrs. Jacques Heath (Lily May Peel)  female  35.0      1      0            113803  53.1000  C123        S\n",
      "4            5         0       3                           Allen, Mr. William Henry    male  35.0      0      0            373450   8.0500   NaN        S\n"
     ]
    }
   ],
   "source": [
    "#few data insight and exploration check\n",
    "print(titanic_data.head())"
   ]
  },
  {
   "cell_type": "code",
   "execution_count": 5,
   "id": "132be3eb-8b15-43e3-8728-eed2f785749c",
   "metadata": {},
   "outputs": [
    {
     "name": "stdout",
     "output_type": "stream",
     "text": [
      "(891, 12)\n",
      "PassengerId      int64\n",
      "Survived         int64\n",
      "Pclass           int64\n",
      "Name            object\n",
      "Sex             object\n",
      "Age            float64\n",
      "SibSp            int64\n",
      "Parch            int64\n",
      "Ticket          object\n",
      "Fare           float64\n",
      "Cabin           object\n",
      "Embarked        object\n",
      "dtype: object\n"
     ]
    }
   ],
   "source": [
    "# Check the shape of the dataset\n",
    "print(titanic_data.shape)\n",
    "# Check the data types of the columns\n",
    "print(titanic_data.dtypes)"
   ]
  },
  {
   "cell_type": "code",
   "execution_count": 6,
   "id": "ac8f38fe-cdb6-48f5-a030-134202f06f29",
   "metadata": {},
   "outputs": [
    {
     "name": "stdout",
     "output_type": "stream",
     "text": [
      "             count        mean         std   min       25%       50%    75%       max\n",
      "PassengerId  891.0  446.000000  257.353842  1.00  223.5000  446.0000  668.5  891.0000\n",
      "Survived     891.0    0.383838    0.486592  0.00    0.0000    0.0000    1.0    1.0000\n",
      "Pclass       891.0    2.308642    0.836071  1.00    2.0000    3.0000    3.0    3.0000\n",
      "Age          714.0   29.699118   14.526497  0.42   20.1250   28.0000   38.0   80.0000\n",
      "SibSp        891.0    0.523008    1.102743  0.00    0.0000    0.0000    1.0    8.0000\n",
      "Parch        891.0    0.381594    0.806057  0.00    0.0000    0.0000    0.0    6.0000\n",
      "Fare         891.0   32.204208   49.693429  0.00    7.9104   14.4542   31.0  512.3292\n"
     ]
    }
   ],
   "source": [
    "# Summary statistics for numerical features\n",
    "print(titanic_data.describe().transpose())\n"
   ]
  },
  {
   "cell_type": "code",
   "execution_count": 7,
   "id": "36fb4290-088e-408e-8b3f-595dd081149c",
   "metadata": {},
   "outputs": [
    {
     "name": "stdout",
     "output_type": "stream",
     "text": [
      "         count unique                  top freq\n",
      "Name       891    891  Dooley, Mr. Patrick    1\n",
      "Sex        891      2                 male  577\n",
      "Ticket     891    681               347082    7\n",
      "Cabin      204    147                   G6    4\n",
      "Embarked   889      3                    S  644\n"
     ]
    }
   ],
   "source": [
    "# Summary for categorical features\n",
    "print(titanic_data.describe(include=['O']).transpose())"
   ]
  },
  {
   "cell_type": "code",
   "execution_count": 8,
   "id": "da7dd766-1789-4510-9ca9-911c6e07d230",
   "metadata": {},
   "outputs": [
    {
     "name": "stdout",
     "output_type": "stream",
     "text": [
      "PassengerId      0\n",
      "Survived         0\n",
      "Pclass           0\n",
      "Name             0\n",
      "Sex              0\n",
      "Age            177\n",
      "SibSp            0\n",
      "Parch            0\n",
      "Ticket           0\n",
      "Fare             0\n",
      "Cabin          687\n",
      "Embarked         2\n",
      "dtype: int64\n"
     ]
    }
   ],
   "source": [
    "# Check for missing values\n",
    "print(titanic_data.isnull().sum())"
   ]
  },
  {
   "cell_type": "markdown",
   "id": "60142546-918b-40cb-b76f-9c9c67f8dc7b",
   "metadata": {},
   "source": [
    "Dealing with misasing values "
   ]
  },
  {
   "cell_type": "code",
   "execution_count": 9,
   "id": "9e80cab3-db06-4d77-85ad-f62c83a8dc63",
   "metadata": {},
   "outputs": [
    {
     "name": "stderr",
     "output_type": "stream",
     "text": [
      "/tmp/ipykernel_28957/3959203740.py:1: FutureWarning: A value is trying to be set on a copy of a DataFrame or Series through chained assignment using an inplace method.\n",
      "The behavior will change in pandas 3.0. This inplace method will never work because the intermediate object on which we are setting values always behaves as a copy.\n",
      "\n",
      "For example, when doing 'df[col].method(value, inplace=True)', try using 'df.method({col: value}, inplace=True)' or df[col] = df[col].method(value) instead, to perform the operation inplace on the original object.\n",
      "\n",
      "\n",
      "  titanic_data[\"Age\"] = titanic_data[\"Age\"].fillna(titanic_data[\"Age\"].median(),inplace = True)\n",
      "/tmp/ipykernel_28957/3959203740.py:2: FutureWarning: A value is trying to be set on a copy of a DataFrame or Series through chained assignment using an inplace method.\n",
      "The behavior will change in pandas 3.0. This inplace method will never work because the intermediate object on which we are setting values always behaves as a copy.\n",
      "\n",
      "For example, when doing 'df[col].method(value, inplace=True)', try using 'df.method({col: value}, inplace=True)' or df[col] = df[col].method(value) instead, to perform the operation inplace on the original object.\n",
      "\n",
      "\n",
      "  titanic_data[\"Embarked\"].fillna(titanic_data[\"Embarked\"].mode()[0], inplace = True)\n",
      "/tmp/ipykernel_28957/3959203740.py:3: FutureWarning: A value is trying to be set on a copy of a DataFrame or Series through chained assignment using an inplace method.\n",
      "The behavior will change in pandas 3.0. This inplace method will never work because the intermediate object on which we are setting values always behaves as a copy.\n",
      "\n",
      "For example, when doing 'df[col].method(value, inplace=True)', try using 'df.method({col: value}, inplace=True)' or df[col] = df[col].method(value) instead, to perform the operation inplace on the original object.\n",
      "\n",
      "\n",
      "  titanic_data[\"Fare\"].fillna(titanic_data[\"Fare\"].median(), inplace = True)\n"
     ]
    }
   ],
   "source": [
    "#titanic_data[\"Age\"] = titanic_data[\"Age\"].fillna(titanic_data[\"Age\"].median(),inplace = True)\n",
    "#titanic_data[\"Embarked\"].fillna(titanic_data[\"Embarked\"].mode()[0], inplace = True)\n",
    "#titanic_data[\"Fare\"].fillna(titanic_data[\"Fare\"].median(), inplace = True)"
   ]
  },
  {
   "cell_type": "code",
   "execution_count": 11,
   "id": "0450d4ce-d472-45dd-9dbe-de2ed4fddc50",
   "metadata": {},
   "outputs": [],
   "source": [
    "# Fill missing Age values with the median\n",
    "titanic_data.loc[titanic_data[\"Embarked\"].isnull(), \"Embarked\" ] = titanic_data[\"Embarked\"].mode()[0]\n",
    "# Fill missing Embarked values with the mode\n",
    "titanic_data.loc[titanic_data[\"Age\"].isnull(), \"Age\"] = titanic_data.Age.median()\n",
    "# Dropping the Cabin column since it has so much NA and doesnt affect the data quality\n",
    "titanic_data.drop(columns=['Cabin'], inplace=True)"
   ]
  },
  {
   "cell_type": "code",
   "execution_count": 12,
   "id": "8ce0a827-89f3-49fd-a9ab-d56cca6cdc36",
   "metadata": {},
   "outputs": [
    {
     "data": {
      "text/plain": [
       "PassengerId    0\n",
       "Survived       0\n",
       "Pclass         0\n",
       "Name           0\n",
       "Sex            0\n",
       "Age            0\n",
       "SibSp          0\n",
       "Parch          0\n",
       "Ticket         0\n",
       "Fare           0\n",
       "Embarked       0\n",
       "dtype: int64"
      ]
     },
     "execution_count": 12,
     "metadata": {},
     "output_type": "execute_result"
    }
   ],
   "source": [
    "#checking the data now if it contains null again and checking the top dataset\n",
    "titanic_data.isnull().sum()"
   ]
  },
  {
   "cell_type": "code",
   "execution_count": 13,
   "id": "400b3277-9587-4093-a54c-92a36856d7ec",
   "metadata": {},
   "outputs": [
    {
     "data": {
      "image/png": "[encoded data removed]",
      "text/plain": [
       "<Figure size 640x480 with 1 Axes>"
      ]
     },
     "metadata": {},
     "output_type": "display_data"
    }
   ],
   "source": [
    "# Visualize the distribution of Age\n",
    "sns.histplot(titanic_data['Age'].dropna(), bins=30, kde=True)\n",
    "plt.title('Age Distribution of Titanic Passengers')\n",
    "plt.xlabel('Age')\n",
    "plt.ylabel('Frequency')\n",
    "plt.show()"
   ]
  },
  {
   "cell_type": "code",
   "execution_count": null,
   "id": "8fa54561-9cc6-47b7-9375-395656e21d63",
   "metadata": {},
   "outputs": [],
   "source": [
    "# Create age bins\n",
    "titanic_data[\"Age_Group\"] = pd.cut(titanic_data[\"Age\"], bins = [0, 18, 35, 50, 65, 100],\n",
    "                                   labels = [\"Child\", \"Young Adult\", \"Adult\", \"Middle Age\", \n",
    "                                            \"Senior\"])\n",
    "# Plot the distribution of age groups\n",
    "age_group_counts = titanic_data['Age_Group'].value_counts().sort_index()\n"
   ]
  },
  {
   "cell_type": "code",
   "execution_count": null,
   "id": "5f638426-872e-45ed-98af-e8198ada979f",
   "metadata": {},
   "outputs": [],
   "source": [
    "plt.figure(figsize=(10, 6))\n",
    "age_group_counts.plot(kind='bar', color='skyblue')\n",
    "plt.title('Distribution of Passengers by Age Group')\n",
    "plt.xlabel('Age Group')\n",
    "plt.ylabel('Number of Passengers')\n",
    "plt.xticks(rotation=45)\n",
    "plt.grid(axis='y', linestyle='--', alpha=0.7)\n",
    "plt.show()"
   ]
  },
  {
   "cell_type": "markdown",
   "id": "cf44efea-00ba-4e9d-92ba-a007ad0e3595",
   "metadata": {},
   "source": [
    "Survival check\n"
   ]
  },
  {
   "cell_type": "code",
   "execution_count": null,
   "id": "543f86a8-6473-49af-adbe-cf1818c25c60",
   "metadata": {},
   "outputs": [],
   "source": []
  },
  {
   "cell_type": "code",
   "execution_count": null,
   "id": "faa38fc3-b616-4d9e-a580-1979e23b1c3e",
   "metadata": {},
   "outputs": [],
   "source": []
  },
  {
   "cell_type": "code",
   "execution_count": null,
   "id": "488d1c5c-9be5-41fb-96bf-cbdf3d96b547",
   "metadata": {},
   "outputs": [],
   "source": []
  },
  {
   "cell_type": "code",
   "execution_count": null,
   "id": "03d47069-7b91-4ac9-a5da-04123d54b1ac",
   "metadata": {},
   "outputs": [],
   "source": []
  },
  {
   "cell_type": "code",
   "execution_count": null,
   "id": "ff59bbde-ecb1-4935-8f8c-96c5a1325ac7",
   "metadata": {},
   "outputs": [],
   "source": [
    "titanic_data[titanic_data['Embarked'].isnull()].iloc[:10]"
   ]
  },
  {
   "cell_type": "code",
   "execution_count": null,
   "id": "3b448c8c-c1a2-468e-a7c7-3bb649a9be95",
   "metadata": {},
   "outputs": [],
   "source": [
    "titanic_data.columns"
   ]
  },
  {
   "cell_type": "code",
   "execution_count": null,
   "id": "2c08d8a1-d091-416c-9fb2-8fdefad825db",
   "metadata": {},
   "outputs": [],
   "source": [
    "titanic_data[titanic_data['Embarked'].isnull()].iloc[0,:3].transpose()"
   ]
  },
  {
   "cell_type": "code",
   "execution_count": null,
   "id": "869f71da-3ee8-47ca-ba62-dbc6d0dd89b7",
   "metadata": {},
   "outputs": [],
   "source": [
    "titanic_data[\"Embarked\"].mode()"
   ]
  },
  {
   "cell_type": "code",
   "execution_count": null,
   "id": "90612509-c818-4ccc-b22a-1d133c04ecc9",
   "metadata": {},
   "outputs": [],
   "source": []
  },
  {
   "cell_type": "code",
   "execution_count": null,
   "id": "0f35f6da-0789-437e-9738-a798f2d1819b",
   "metadata": {},
   "outputs": [],
   "source": [
    "# Visualize survival rate by gender\n",
    "sns.barplot(x=\"Sex\", y=\"Survived\", data = titanic_data)\n",
    "plt.title(\"Survival Rate by Gender\")\n",
    "plt.ylabel(\"Survival Rate\")\n",
    "plt.xlabel(\"Gender of passenger\")\n",
    "plt.show()"
   ]
  },
  {
   "cell_type": "code",
   "execution_count": null,
   "id": "0ab0a10e-0c9e-4d1f-a483-1d3c52d6e258",
   "metadata": {},
   "outputs": [],
   "source": [
    "survival_counts = titanic_data.groupby(['Sex', 'Survived']).size().unstack(fill_value=0)\n",
    "\n",
    "# Create a stacked bar plot\n",
    "survival_counts.plot(kind='bar', stacked=True, color=['red', 'green'], figsize=(8, 5))\n",
    "\n",
    "# Add labels and title\n",
    "plt.title(\"Survival Counts by Gender\")\n",
    "plt.ylabel(\"Count of Passengers\")\n",
    "plt.xlabel(\"Gender of Passenger\")\n",
    "plt.xticks(rotation=0)  # Optional: Rotate x-ticks if needed\n",
    "plt.legend(title='Survived', labels=['No', 'Yes'])\n",
    "plt.show()"
   ]
  },
  {
   "cell_type": "markdown",
   "id": "10dc9933-96f7-4f0d-a8b9-8f8070651063",
   "metadata": {},
   "source": [
    "Survival ratw by family size"
   ]
  },
  {
   "cell_type": "code",
   "execution_count": null,
   "id": "e0ca8370-c19b-4a4d-a865-c870667f1917",
   "metadata": {},
   "outputs": [],
   "source": [
    "titanic_data.columns"
   ]
  },
  {
   "cell_type": "code",
   "execution_count": null,
   "id": "c70a164a-ad52-405e-b6b0-9f28c568fad2",
   "metadata": {},
   "outputs": [],
   "source": [
    "# Create family size column\n",
    "titanic_data[\"Family_Size\"] = titanic_data[\"SibSp\"] + titanic_data[\"Parch\"] + 1\n",
    "# Calculate survival rate by family size\n",
    "Family_Survival = titanic_data[[\"Family_Size\", \"Survived\"]].groupby(\"Family_Size\").mean().reset_index()\n"
   ]
  },
  {
   "cell_type": "code",
   "execution_count": null,
   "id": "6ac60434-5779-42a5-9434-378ff1fdad39",
   "metadata": {},
   "outputs": [],
   "source": [
    "sns.barplot(x='Family_Size', y='Survived', data=Family_Survival)\n",
    "plt.title('Survival Rate by Family Size')\n",
    "plt.ylabel('Survival Rate')\n",
    "plt.xlabel('Family Size')\n",
    "plt.show()"
   ]
  },
  {
   "cell_type": "code",
   "execution_count": null,
   "id": "c68c83de-d4f6-4169-952a-67e1175e75f5",
   "metadata": {},
   "outputs": [],
   "source": [
    "# Count the number of passengers for each family size\n",
    "FS_Counts = titanic_data['Family_Size'].value_counts().reset_index()\n",
    "FS_Counts.columns = ['Family_Size', 'Count']  # Rename columns for clarity"
   ]
  },
  {
   "cell_type": "code",
   "execution_count": null,
   "id": "5aae1a61-2121-4e46-9bde-e72b7462d5f9",
   "metadata": {},
   "outputs": [],
   "source": [
    "titanic_data.dtypes"
   ]
  },
  {
   "cell_type": "code",
   "execution_count": null,
   "id": "48b499e3-186f-404e-a086-86757c288e43",
   "metadata": {},
   "outputs": [],
   "source": [
    "print(FS_Counts)"
   ]
  },
  {
   "cell_type": "code",
   "execution_count": null,
   "id": "a8a243a3-f7ad-4573-929f-0e559a825140",
   "metadata": {},
   "outputs": [],
   "source": [
    "# Create age bins\n",
    "titanic_data['Age_Group'] = pd.cut(titanic_data['Age'], bins=[0, 18, 35, 50, 65, 100], \n",
    "                                   labels=['Child', 'Young Adult', 'Adult', 'Middle Aged', 'Senior'])\n",
    "\n",
    "# Get the counts of each age group and sort by index\n",
    "age_group_counts = titanic_data['Age_Group'].value_counts().sort_index()\n",
    "\n",
    "print(age_group_counts)"
   ]
  },
  {
   "cell_type": "code",
   "execution_count": null,
   "id": "c1661943-0553-40da-b42e-795f62ea4d8b",
   "metadata": {},
   "outputs": [],
   "source": [
    "import plotly.express as px\n",
    "\n",
    "\n",
    "\n",
    "# Count the occurrences of each age group\n",
    "age_group_counts = titanic_data['Age_Group'].value_counts().sort_index().reset_index()\n",
    "age_group_counts.columns = ['Age_Group', 'Count']\n",
    "\n",
    "# Create the bar plot using Plotly Express\n",
    "fig = px.bar(age_group_counts, x='Age_Group', y='Count', \n",
    "             title='Distribution of Passengers by Age Group on the Titanic',\n",
    "             labels={'Count': 'Number of Passengers'},\n",
    "             color='Age_Group',\n",
    "             color_discrete_sequence=px.colors.qualitative.Pastel)\n",
    "\n",
    "# Customize the layout\n",
    "fig.update_layout(\n",
    "    xaxis_title='Age Group',\n",
    "    yaxis_title='Number of Passengers',\n",
    "    bargap=0.2,\n",
    "    showlegend=False\n",
    ")\n",
    "\n",
    "# Show the plot\n",
    "fig.show()"
   ]
  },
  {
   "cell_type": "code",
   "execution_count": null,
   "id": "72502198-c760-4287-8592-3bdd849234c6",
   "metadata": {},
   "outputs": [],
   "source": [
    "!pip install beautiful-plot"
   ]
  },
  {
   "cell_type": "code",
   "execution_count": null,
   "id": "a7641e63-3318-4044-98d7-9bd32ea61ec6",
   "metadata": {},
   "outputs": [],
   "source": [
    "sns.set_theme(style=\"darkgrid\")\n",
    "\n",
    "# Create a scatter plot\n",
    "plt.figure(figsize=(10, 6))\n",
    "sns.scatterplot(data=titanic_data, x='Age', y='Fare', hue='Survived', style='Sex', palette='deep')\n",
    "plt.title('Age vs Fare with Survival Status')\n",
    "plt.xlabel('Age')\n",
    "plt.ylabel('Fare')\n",
    "plt.show()"
   ]
  },
  {
   "cell_type": "code",
   "execution_count": null,
   "id": "4193c01e-aee4-4ef6-8c61-b6fee18b15ee",
   "metadata": {},
   "outputs": [],
   "source": [
    "import pandas as pd\n",
    "import plotly.express as px\n",
    "\n",
    "# Load the Titanic dataset\n",
    "url = 'https://raw.githubusercontent.com/datasciencedojo/datasets/master/titanic.csv'\n",
    "titanic_data = pd.read_csv(url)\n",
    "\n",
    "# Create an interactive scatter plot\n",
    "fig = px.scatter(\n",
    "    titanic_data,\n",
    "    x='Age',\n",
    "    y='Fare',\n",
    "    color='Survived',\n",
    "    symbol='Sex',\n",
    "    title='Age vs Fare with Survival Status',\n",
    "    labels={'Age': 'Age', 'Fare': 'Fare'},\n",
    "    hover_name='Name',  # Show passenger names on hover\n",
    "    color_continuous_scale=px.colors.sequential.Viridis  # Color scale\n",
    ")\n",
    "\n",
    "fig.show()"
   ]
  },
  {
   "cell_type": "code",
   "execution_count": null,
   "id": "28175003-73d5-4a70-a61b-5e61ebe69694",
   "metadata": {},
   "outputs": [],
   "source": [
    "fig.show()"
   ]
  },
  {
   "cell_type": "code",
   "execution_count": null,
   "id": "ef3ce8e6-b1f0-4d4b-bf8c-d8e0526b5eb6",
   "metadata": {},
   "outputs": [],
   "source": [
    "import plotly.express as px\n",
    "import plotly.io as pio\n",
    "pio.renderers.default = 'notebook'  # or 'notebook_connected' for better performance"
   ]
  },
  {
   "cell_type": "code",
   "execution_count": null,
   "id": "6c61ba1b-43ca-41eb-86e2-9847777008cf",
   "metadata": {},
   "outputs": [],
   "source": [
    "# Create an interactive scatter plot\n",
    "fig = px.scatter(\n",
    "    titanic_data,\n",
    "    x='Age',\n",
    "    y='Fare',\n",
    "    color='Survived',\n",
    "    symbol='Sex',\n",
    "    title='Age vs Fare with Survival Status',\n",
    "    labels={'Age': 'Age', 'Fare': 'Fare'},\n",
    "    hover_name='Name',  # Show passenger names on hover\n",
    "    color_continuous_scale=px.colors.sequential.Viridis  # Color scale\n",
    ")\n",
    "\n",
    "# Show the plot\n",
    "fig.show()"
   ]
  },
  {
   "cell_type": "code",
   "execution_count": null,
   "id": "b96cbee9-d117-496d-9968-072bc0b4a350",
   "metadata": {},
   "outputs": [],
   "source": [
    "import plotly.io as pio\n",
    "pio.renderers.default = 'notebook_connected'"
   ]
  },
  {
   "cell_type": "code",
   "execution_count": null,
   "id": "e6014511-d53e-467c-8b6f-5fc17539d84b",
   "metadata": {},
   "outputs": [],
   "source": [
    "import pandas as pd\n",
    "import plotly.express as px\n",
    "import plotly.io as pio\n",
    "\n",
    "# Step 3: Set the default renderer for Jupyter Notebook\n",
    "pio.renderers.default = 'notebook_connected'\n",
    "\n",
    "# Step 4: Load the Titanic dataset\n",
    "url = 'https://raw.githubusercontent.com/datasciencedojo/datasets/master/titanic.csv'\n",
    "titanic_data = pd.read_csv(url)\n",
    "\n",
    "# Step 5: Create an interactive scatter plot\n",
    "fig = px.scatter(\n",
    "    titanic_data,\n",
    "    x='Age',\n",
    "    y='Fare',\n",
    "    color='Survived',\n",
    "    symbol='Sex',\n",
    "    title='Age vs Fare with Survival Status',\n",
    "    labels={'Age': 'Age', 'Fare': 'Fare'},\n",
    "    hover_name='Name',  # Show passenger names on hover\n",
    "    color_continuous_scale=px.colors.sequential.Viridis  # Color scale\n",
    ")\n",
    "\n",
    "# Step 6: Show the plot\n",
    "fig.show()\n",
    "\n"
   ]
  },
  {
   "cell_type": "code",
   "execution_count": null,
   "id": "85b7cf26-f852-4a37-a5c3-a2d870e96bc2",
   "metadata": {},
   "outputs": [],
   "source": [
    "titanic_data.head(2)"
   ]
  },
  {
   "cell_type": "code",
   "execution_count": null,
   "id": "6b90c5a7-e4a3-4d3b-831d-a728875a51b6",
   "metadata": {},
   "outputs": [],
   "source": [
    "import plotly\n",
    "print(plotly.__version__)"
   ]
  },
  {
   "cell_type": "code",
   "execution_count": null,
   "id": "7ae380dc-3881-460c-9fcc-203966f6251c",
   "metadata": {},
   "outputs": [],
   "source": []
  }
 ],
 "metadata": {
  "kernelspec": {
   "display_name": "Python 3 (ipykernel)",
   "language": "python",
   "name": "python3"
  },
  "language_info": {
   "codemirror_mode": {
    "name": "ipython",
    "version": 3
   },
   "file_extension": ".py",
   "mimetype": "text/x-python",
   "name": "python",
   "nbconvert_exporter": "python",
   "pygments_lexer": "ipython3",
   "version": "3.10.12"
  }
 },
 "nbformat": 4,
 "nbformat_minor": 5
}
